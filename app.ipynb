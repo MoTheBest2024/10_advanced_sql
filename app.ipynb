{
 "cells": [
  {
   "cell_type": "code",
   "execution_count": 24,
   "id": "196cd956-0acd-4c65-aa2f-a00364ee4274",
   "metadata": {
    "tags": []
   },
   "outputs": [
    {
     "name": "stdout",
     "output_type": "stream",
     "text": [
      "Requirement already satisfied: Flask in c:\\users\\daizh\\anaconda3\\lib\\site-packages (2.2.2)\n",
      "Requirement already satisfied: Werkzeug>=2.2.2 in c:\\users\\daizh\\anaconda3\\lib\\site-packages (from Flask) (2.2.3)\n",
      "Requirement already satisfied: Jinja2>=3.0 in c:\\users\\daizh\\anaconda3\\lib\\site-packages (from Flask) (3.1.2)\n",
      "Requirement already satisfied: itsdangerous>=2.0 in c:\\users\\daizh\\anaconda3\\lib\\site-packages (from Flask) (2.0.1)\n",
      "Requirement already satisfied: click>=8.0 in c:\\users\\daizh\\anaconda3\\lib\\site-packages (from Flask) (8.0.4)\n",
      "Requirement already satisfied: colorama in c:\\users\\daizh\\anaconda3\\lib\\site-packages (from click>=8.0->Flask) (0.4.6)\n",
      "Requirement already satisfied: MarkupSafe>=2.0 in c:\\users\\daizh\\anaconda3\\lib\\site-packages (from Jinja2>=3.0->Flask) (2.1.1)\n",
      "Note: you may need to restart the kernel to use updated packages.\n"
     ]
    }
   ],
   "source": [
    "pip install Flask"
   ]
  },
  {
   "cell_type": "code",
   "execution_count": 25,
   "id": "c01b2cb0-bf66-403d-a8ad-d736c8bbfab7",
   "metadata": {
    "tags": []
   },
   "outputs": [],
   "source": [
    "from flask import Flask, jsonify\n",
    "import numpy as np\n",
    "import sqlalchemy\n",
    "from sqlalchemy.ext.automap import automap_base\n",
    "from sqlalchemy.orm import Session\n",
    "from sqlalchemy import create_engine, func\n",
    "import datetime as dt"
   ]
  },
  {
   "cell_type": "code",
   "execution_count": 26,
   "id": "d610c43b-9553-4a45-b20f-c771e99ee796",
   "metadata": {
    "tags": []
   },
   "outputs": [],
   "source": [
    "engine = create_engine(\"sqlite:///Resources/hawaii.sqlite\")\n",
    "base = automap_base()\n",
    "base.prepare(engine, reflect=True)"
   ]
  },
  {
   "cell_type": "code",
   "execution_count": 27,
   "id": "0ade85d0-ed76-4d29-a1de-5d97eefe37d0",
   "metadata": {
    "tags": []
   },
   "outputs": [],
   "source": [
    "measurement = base.classes.measurement\n",
    "station = base.classes.station"
   ]
  },
  {
   "cell_type": "code",
   "execution_count": 28,
   "id": "5d2b8599-165d-478b-a627-338ac8d8a71a",
   "metadata": {
    "tags": []
   },
   "outputs": [],
   "source": [
    "session = Session(engine)"
   ]
  },
  {
   "cell_type": "code",
   "execution_count": 29,
   "id": "8c24fe03-5765-4e2f-b3d8-3773676472cf",
   "metadata": {
    "tags": []
   },
   "outputs": [
    {
     "ename": "NameError",
     "evalue": "name 'flask' is not defined",
     "output_type": "error",
     "traceback": [
      "\u001b[1;31m---------------------------------------------------------------------------\u001b[0m",
      "\u001b[1;31mNameError\u001b[0m                                 Traceback (most recent call last)",
      "Cell \u001b[1;32mIn[29], line 1\u001b[0m\n\u001b[1;32m----> 1\u001b[0m app \u001b[38;5;241m=\u001b[39m flask(\u001b[38;5;18m__name__\u001b[39m)\n",
      "\u001b[1;31mNameError\u001b[0m: name 'flask' is not defined"
     ]
    }
   ],
   "source": [
    "app = flask(__name__)"
   ]
  },
  {
   "cell_type": "code",
   "execution_count": null,
   "id": "5618a964-5d33-432f-9e79-bc6601fcc1e6",
   "metadata": {
    "tags": []
   },
   "outputs": [],
   "source": [
    "# @app.route(\"/\")\n",
    "def home():\n",
    "    \"\"\"List all available API routes.\"\"\"\n",
    "    return (\n",
    "        f\"Available Routes:<br/>\"\n",
    "        f\"/api/v1.0/precipitation<br/>\"\n",
    "        f\"/api/v1.0/stations<br/>\"\n",
    "        f\"/api/v1.0/tobs<br/>\"\n",
    "        f\"/api/v1.0/start_date<br/>\"\n",
    "        f\"/api/v1.0/start_date/end_date\"\n",
    "    )\n",
    "\n",
    "# @app.route(\"/api/v1.0/precipitation\")\n",
    "def precipitation():\n",
    "    \"\"\"Return the last 12 months of precipitation data as a JSON dictionary.\"\"\"\n",
    "    # Calculate the date 1 year ago from the last data point in the database\n",
    "    last_date = session.query(func.max(Measurement.date)).scalar()\n",
    "    last_date = dt.datetime.strptime(last_date, '%Y-%m-%d')\n",
    "    one_year_ago = last_date - dt.timedelta(days=365)\n",
    "    \n",
    "    # Perform a query to retrieve the data and precipitation scores\n",
    "    results = session.query(Measurement.date, Measurement.prcp).\\\n",
    "        filter(Measurement.date >= one_year_ago).all()\n",
    "    \n",
    "    # Convert the query results to a dictionary\n",
    "    precipitation_data = {date: prcp for date, prcp in results}\n",
    "    \n",
    "    return jsonify(precipitation_data)\n",
    "\n",
    "@app.route(\"/api/v1.0/stations\")\n",
    "def stations():\n",
    "    \"\"\"Return a JSON list of stations from the dataset.\"\"\"\n",
    "    # Query all stations\n",
    "    results = session.query(Station.station).all()\n",
    "    \n",
    "    # Convert list of tuples into normal list\n",
    "    stations_list = list(np.ravel(results))\n",
    "    \n",
    "    return jsonify(stations_list)\n",
    "\n",
    "@app.route(\"/api/v1.0/tobs\")\n",
    "def tobs():\n",
    "    \"\"\"Return the temperature observations (tobs) for the most active station for the last year of data.\"\"\"\n",
    "    # Find the most active station\n",
    "    most_active_station = session.query(Measurement.station).\\\n",
    "        group_by(Measurement.station).\\\n",
    "        order_by(func.count().desc()).\\\n",
    "        first()[0]\n",
    "    \n",
    "    # Calculate the date 1 year ago from the last data point\n",
    "    last_date = session.query(func.max(Measurement.date)).scalar()\n",
    "    last_date = dt.datetime.strptime(last_date, '%Y-%m-%d')\n",
    "    one_year_ago = last_date - dt.timedelta(days=365)\n",
    "    \n",
    "    # Query the last 12 months of temperature observations for the most active station\n",
    "    results = session.query(Measurement.date, Measurement.tobs).\\\n",
    "        filter(Measurement.station == most_active_station).\\\n",
    "        filter(Measurement.date >= one_year_ago).all()\n",
    "    \n",
    "    # Convert the query results to a list of dictionaries\n",
    "    tobs_data = [{\"Date\": date, \"Temperature\": tobs} for date, tobs in results]\n",
    "    \n",
    "    return jsonify(tobs_data)\n",
    "\n",
    "@app.route(\"/api/v1.0/<start>\")\n",
    "def start_date(start):\n",
    "    \"\"\"Return TMIN, TAVG, and TMAX for all dates greater than or equal to the start date.\"\"\"\n",
    "    # Convert the start date string to datetime object\n",
    "    start_date = dt.datetime.strptime(start, '%Y-%m-%d')\n",
    "    \n",
    "    # Query the minimum, average, and maximum temperatures for dates greater than or equal to the start date\n",
    "    results = session.query(func.min(Measurement.tobs), func.avg(Measurement.tobs), func.max(Measurement.tobs)).\\\n",
    "        filter(Measurement.date >= start_date).all()\n",
    "    \n",
    "    # Convert the query results to a list of dictionaries\n",
    "    temp_data = [{\"Start Date\": start_date.strftime('%Y-%m-%d'),\n",
    "                  \"TMIN\": results[0][0],\n",
    "                  \"TAVG\": results[0][1],\n",
    "                  \"TMAX\": results[0][2]}]\n",
    "    \n",
    "    return jsonify(temp_data)\n",
    "\n",
    "@app.route(\"/api/v1.0/<start>/<end>\")\n",
    "def start_end_date(start, end):\n",
    "    \"\"\"Return TMIN, TAVG, and TMAX for dates between the start and end date, inclusive.\"\"\"\n",
    "    # Convert the start and end date strings to datetime objects\n",
    "    start_date = dt.datetime.strptime(start, '%Y-%m-%d')\n",
    "    end_date = dt.datetime.strptime(end, '%Y-%m-%d')\n",
    "    \n",
    "    # Query the minimum, average, and maximum temperatures for dates between the start and end date\n",
    "    results = session.query(func.min(Measurement.tobs), func.avg(Measurement.tobs), func.max(Measurement.tobs)).\\\n",
    "        filter(Measurement.date >= start_date).\\\n",
    "        filter(Measurement.date <= end_date).all()\n",
    "    \n",
    "    # Convert the query results to a list of dictionaries\n",
    "    temp_data = [{\"Start Date\": start_date.strftime('%Y-%m-%d'),\n",
    "                  \"End Date\": end_date.strftime('%Y-%m-%d'),\n",
    "                  \"TMIN\": results[0][0],\n",
    "                  \"TAVG\": results[0][1],\n",
    "                  \"TMAX\": results[0][2]}]\n",
    "    \n",
    "    return jsonify(temp_data)\n",
    "\n",
    "if __name__ == \"__main__\":\n",
    "    app.run(debug=True)"
   ]
  },
  {
   "cell_type": "code",
   "execution_count": null,
   "id": "d9721340-630d-4ca2-8cc7-dae67b8137fa",
   "metadata": {},
   "outputs": [],
   "source": []
  }
 ],
 "metadata": {
  "kernelspec": {
   "display_name": "Python 3 (ipykernel)",
   "language": "python",
   "name": "python3"
  },
  "language_info": {
   "codemirror_mode": {
    "name": "ipython",
    "version": 3
   },
   "file_extension": ".py",
   "mimetype": "text/x-python",
   "name": "python",
   "nbconvert_exporter": "python",
   "pygments_lexer": "ipython3",
   "version": "3.11.5"
  }
 },
 "nbformat": 4,
 "nbformat_minor": 5
}
